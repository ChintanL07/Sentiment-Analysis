{
 "cells": [
  {
   "cell_type": "markdown",
   "metadata": {
    "id": "wn94ju2ge1y8"
   },
   "source": [
    "# Train_data_preprocessing\n"
   ]
  },
  {
   "cell_type": "code",
   "execution_count": 1,
   "metadata": {
    "id": "ywJgtBcrhFyF"
   },
   "outputs": [],
   "source": [
    "import pandas as pd\n",
    "import numpy as np\n",
    "import matplotlib.pyplot as plt\n",
    "import seaborn as sns"
   ]
  },
  {
   "cell_type": "code",
   "execution_count": 3,
   "metadata": {
    "id": "fCzRZijC_c7U"
   },
   "outputs": [],
   "source": [
    "train_df = pd.read_csv(\"train.csv\", encoding='latin-1')"
   ]
  },
  {
   "cell_type": "code",
   "execution_count": 4,
   "metadata": {
    "colab": {
     "base_uri": "https://localhost:8080/",
     "height": 275
    },
    "id": "g8Zu9V3piQTx",
    "outputId": "272522ed-2250-41a9-9e47-88a53e0d04d1"
   },
   "outputs": [
    {
     "data": {
      "text/html": [
       "<div>\n",
       "<style scoped>\n",
       "    .dataframe tbody tr th:only-of-type {\n",
       "        vertical-align: middle;\n",
       "    }\n",
       "\n",
       "    .dataframe tbody tr th {\n",
       "        vertical-align: top;\n",
       "    }\n",
       "\n",
       "    .dataframe thead th {\n",
       "        text-align: right;\n",
       "    }\n",
       "</style>\n",
       "<table border=\"1\" class=\"dataframe\">\n",
       "  <thead>\n",
       "    <tr style=\"text-align: right;\">\n",
       "      <th></th>\n",
       "      <th>textID</th>\n",
       "      <th>text</th>\n",
       "      <th>selected_text</th>\n",
       "      <th>sentiment</th>\n",
       "      <th>Time of Tweet</th>\n",
       "      <th>Age of User</th>\n",
       "      <th>Country</th>\n",
       "      <th>Population -2020</th>\n",
       "      <th>Land Area (Km²)</th>\n",
       "      <th>Density (P/Km²)</th>\n",
       "    </tr>\n",
       "  </thead>\n",
       "  <tbody>\n",
       "    <tr>\n",
       "      <th>0</th>\n",
       "      <td>cb774db0d1</td>\n",
       "      <td>I`d have responded, if I were going</td>\n",
       "      <td>I`d have responded, if I were going</td>\n",
       "      <td>neutral</td>\n",
       "      <td>morning</td>\n",
       "      <td>0-20</td>\n",
       "      <td>Afghanistan</td>\n",
       "      <td>38928346</td>\n",
       "      <td>652860.0</td>\n",
       "      <td>60</td>\n",
       "    </tr>\n",
       "    <tr>\n",
       "      <th>1</th>\n",
       "      <td>549e992a42</td>\n",
       "      <td>Sooo SAD I will miss you here in San Diego!!!</td>\n",
       "      <td>Sooo SAD</td>\n",
       "      <td>negative</td>\n",
       "      <td>noon</td>\n",
       "      <td>21-30</td>\n",
       "      <td>Albania</td>\n",
       "      <td>2877797</td>\n",
       "      <td>27400.0</td>\n",
       "      <td>105</td>\n",
       "    </tr>\n",
       "    <tr>\n",
       "      <th>2</th>\n",
       "      <td>088c60f138</td>\n",
       "      <td>my boss is bullying me...</td>\n",
       "      <td>bullying me</td>\n",
       "      <td>negative</td>\n",
       "      <td>night</td>\n",
       "      <td>31-45</td>\n",
       "      <td>Algeria</td>\n",
       "      <td>43851044</td>\n",
       "      <td>2381740.0</td>\n",
       "      <td>18</td>\n",
       "    </tr>\n",
       "    <tr>\n",
       "      <th>3</th>\n",
       "      <td>9642c003ef</td>\n",
       "      <td>what interview! leave me alone</td>\n",
       "      <td>leave me alone</td>\n",
       "      <td>negative</td>\n",
       "      <td>morning</td>\n",
       "      <td>46-60</td>\n",
       "      <td>Andorra</td>\n",
       "      <td>77265</td>\n",
       "      <td>470.0</td>\n",
       "      <td>164</td>\n",
       "    </tr>\n",
       "    <tr>\n",
       "      <th>4</th>\n",
       "      <td>358bd9e861</td>\n",
       "      <td>Sons of ****, why couldn`t they put them on t...</td>\n",
       "      <td>Sons of ****,</td>\n",
       "      <td>negative</td>\n",
       "      <td>noon</td>\n",
       "      <td>60-70</td>\n",
       "      <td>Angola</td>\n",
       "      <td>32866272</td>\n",
       "      <td>1246700.0</td>\n",
       "      <td>26</td>\n",
       "    </tr>\n",
       "  </tbody>\n",
       "</table>\n",
       "</div>"
      ],
      "text/plain": [
       "       textID                                               text  \\\n",
       "0  cb774db0d1                I`d have responded, if I were going   \n",
       "1  549e992a42      Sooo SAD I will miss you here in San Diego!!!   \n",
       "2  088c60f138                          my boss is bullying me...   \n",
       "3  9642c003ef                     what interview! leave me alone   \n",
       "4  358bd9e861   Sons of ****, why couldn`t they put them on t...   \n",
       "\n",
       "                         selected_text sentiment Time of Tweet Age of User  \\\n",
       "0  I`d have responded, if I were going   neutral       morning        0-20   \n",
       "1                             Sooo SAD  negative          noon       21-30   \n",
       "2                          bullying me  negative         night       31-45   \n",
       "3                       leave me alone  negative       morning       46-60   \n",
       "4                        Sons of ****,  negative          noon       60-70   \n",
       "\n",
       "       Country  Population -2020  Land Area (Km²)  Density (P/Km²)  \n",
       "0  Afghanistan          38928346         652860.0               60  \n",
       "1      Albania           2877797          27400.0              105  \n",
       "2      Algeria          43851044        2381740.0               18  \n",
       "3      Andorra             77265            470.0              164  \n",
       "4       Angola          32866272        1246700.0               26  "
      ]
     },
     "execution_count": 4,
     "metadata": {},
     "output_type": "execute_result"
    }
   ],
   "source": [
    "train_df.head()"
   ]
  },
  {
   "cell_type": "code",
   "execution_count": 5,
   "metadata": {
    "colab": {
     "base_uri": "https://localhost:8080/"
    },
    "id": "rFIv_hHt_5hp",
    "outputId": "4a607e57-748d-4975-b7f9-16d661b6093e"
   },
   "outputs": [
    {
     "name": "stdout",
     "output_type": "stream",
     "text": [
      "<class 'pandas.core.frame.DataFrame'>\n",
      "RangeIndex: 27481 entries, 0 to 27480\n",
      "Data columns (total 10 columns):\n",
      " #   Column            Non-Null Count  Dtype  \n",
      "---  ------            --------------  -----  \n",
      " 0   textID            27481 non-null  object \n",
      " 1   text              27480 non-null  object \n",
      " 2   selected_text     27480 non-null  object \n",
      " 3   sentiment         27481 non-null  object \n",
      " 4   Time of Tweet     27481 non-null  object \n",
      " 5   Age of User       27481 non-null  object \n",
      " 6   Country           27481 non-null  object \n",
      " 7   Population -2020  27481 non-null  int64  \n",
      " 8   Land Area (Km²)   27481 non-null  float64\n",
      " 9   Density (P/Km²)   27481 non-null  int64  \n",
      "dtypes: float64(1), int64(2), object(7)\n",
      "memory usage: 2.1+ MB\n"
     ]
    }
   ],
   "source": [
    "train_df.info()"
   ]
  },
  {
   "cell_type": "code",
   "execution_count": 6,
   "metadata": {
    "colab": {
     "base_uri": "https://localhost:8080/",
     "height": 300
    },
    "id": "z7AHej0UAe_f",
    "outputId": "5509dbd5-0ac4-4b85-ac2e-38e30dd7c685"
   },
   "outputs": [
    {
     "data": {
      "text/html": [
       "<div>\n",
       "<style scoped>\n",
       "    .dataframe tbody tr th:only-of-type {\n",
       "        vertical-align: middle;\n",
       "    }\n",
       "\n",
       "    .dataframe tbody tr th {\n",
       "        vertical-align: top;\n",
       "    }\n",
       "\n",
       "    .dataframe thead th {\n",
       "        text-align: right;\n",
       "    }\n",
       "</style>\n",
       "<table border=\"1\" class=\"dataframe\">\n",
       "  <thead>\n",
       "    <tr style=\"text-align: right;\">\n",
       "      <th></th>\n",
       "      <th>Population -2020</th>\n",
       "      <th>Land Area (Km²)</th>\n",
       "      <th>Density (P/Km²)</th>\n",
       "    </tr>\n",
       "  </thead>\n",
       "  <tbody>\n",
       "    <tr>\n",
       "      <th>count</th>\n",
       "      <td>2.748100e+04</td>\n",
       "      <td>2.748100e+04</td>\n",
       "      <td>27481.000000</td>\n",
       "    </tr>\n",
       "    <tr>\n",
       "      <th>mean</th>\n",
       "      <td>4.018497e+07</td>\n",
       "      <td>6.621730e+05</td>\n",
       "      <td>357.686583</td>\n",
       "    </tr>\n",
       "    <tr>\n",
       "      <th>std</th>\n",
       "      <td>1.504946e+08</td>\n",
       "      <td>1.807425e+06</td>\n",
       "      <td>2013.750702</td>\n",
       "    </tr>\n",
       "    <tr>\n",
       "      <th>min</th>\n",
       "      <td>8.010000e+02</td>\n",
       "      <td>0.000000e+00</td>\n",
       "      <td>2.000000</td>\n",
       "    </tr>\n",
       "    <tr>\n",
       "      <th>25%</th>\n",
       "      <td>1.968001e+06</td>\n",
       "      <td>2.281000e+04</td>\n",
       "      <td>35.000000</td>\n",
       "    </tr>\n",
       "    <tr>\n",
       "      <th>50%</th>\n",
       "      <td>8.655535e+06</td>\n",
       "      <td>1.118900e+05</td>\n",
       "      <td>89.000000</td>\n",
       "    </tr>\n",
       "    <tr>\n",
       "      <th>75%</th>\n",
       "      <td>2.843594e+07</td>\n",
       "      <td>5.279700e+05</td>\n",
       "      <td>214.000000</td>\n",
       "    </tr>\n",
       "    <tr>\n",
       "      <th>max</th>\n",
       "      <td>1.439324e+09</td>\n",
       "      <td>1.637687e+07</td>\n",
       "      <td>26337.000000</td>\n",
       "    </tr>\n",
       "  </tbody>\n",
       "</table>\n",
       "</div>"
      ],
      "text/plain": [
       "       Population -2020  Land Area (Km²)  Density (P/Km²)\n",
       "count      2.748100e+04     2.748100e+04     27481.000000\n",
       "mean       4.018497e+07     6.621730e+05       357.686583\n",
       "std        1.504946e+08     1.807425e+06      2013.750702\n",
       "min        8.010000e+02     0.000000e+00         2.000000\n",
       "25%        1.968001e+06     2.281000e+04        35.000000\n",
       "50%        8.655535e+06     1.118900e+05        89.000000\n",
       "75%        2.843594e+07     5.279700e+05       214.000000\n",
       "max        1.439324e+09     1.637687e+07     26337.000000"
      ]
     },
     "execution_count": 6,
     "metadata": {},
     "output_type": "execute_result"
    }
   ],
   "source": [
    "train_df.describe()"
   ]
  },
  {
   "cell_type": "code",
   "execution_count": 7,
   "metadata": {
    "colab": {
     "base_uri": "https://localhost:8080/"
    },
    "id": "5NF_qwy9Akig",
    "outputId": "37a9a7f2-15c7-4286-ae18-ee5c767951e1"
   },
   "outputs": [
    {
     "data": {
      "text/plain": [
       "textID              0\n",
       "text                1\n",
       "selected_text       1\n",
       "sentiment           0\n",
       "Time of Tweet       0\n",
       "Age of User         0\n",
       "Country             0\n",
       "Population -2020    0\n",
       "Land Area (Km²)     0\n",
       "Density (P/Km²)     0\n",
       "dtype: int64"
      ]
     },
     "execution_count": 7,
     "metadata": {},
     "output_type": "execute_result"
    }
   ],
   "source": [
    "train_df.isnull().sum()"
   ]
  },
  {
   "cell_type": "code",
   "execution_count": 8,
   "metadata": {
    "id": "oMB8SO_QAr4V"
   },
   "outputs": [],
   "source": [
    "# prompt: remove null rows\n",
    "\n",
    "train_df = train_df.dropna()\n"
   ]
  },
  {
   "cell_type": "code",
   "execution_count": 9,
   "metadata": {
    "colab": {
     "base_uri": "https://localhost:8080/"
    },
    "id": "X3R_-i-7A3EG",
    "outputId": "4640830e-53bb-4354-bf7b-e232eddfd942"
   },
   "outputs": [
    {
     "data": {
      "text/plain": [
       "sentiment\n",
       "neutral     11117\n",
       "positive     8582\n",
       "negative     7781\n",
       "Name: count, dtype: int64"
      ]
     },
     "execution_count": 9,
     "metadata": {},
     "output_type": "execute_result"
    }
   ],
   "source": [
    "train_df['sentiment'].value_counts()"
   ]
  },
  {
   "cell_type": "code",
   "execution_count": 10,
   "metadata": {
    "colab": {
     "base_uri": "https://localhost:8080/"
    },
    "id": "E3XbK-DwBEIt",
    "outputId": "b39d62f9-1c49-4664-d510-59e72a141faf"
   },
   "outputs": [
    {
     "name": "stderr",
     "output_type": "stream",
     "text": [
      "[nltk_data] Downloading package stopwords to\n",
      "[nltk_data]     C:\\Users\\balim\\AppData\\Roaming\\nltk_data...\n",
      "[nltk_data]   Unzipping corpora\\stopwords.zip.\n",
      "[nltk_data] Downloading package punkt to\n",
      "[nltk_data]     C:\\Users\\balim\\AppData\\Roaming\\nltk_data...\n",
      "[nltk_data]   Unzipping tokenizers\\punkt.zip.\n",
      "[nltk_data] Downloading package wordnet to\n",
      "[nltk_data]     C:\\Users\\balim\\AppData\\Roaming\\nltk_data...\n"
     ]
    },
    {
     "name": "stdout",
     "output_type": "stream",
     "text": [
      "       textID                                               text  \\\n",
      "0  cb774db0d1                I`d have responded, if I were going   \n",
      "1  549e992a42      Sooo SAD I will miss you here in San Diego!!!   \n",
      "2  088c60f138                          my boss is bullying me...   \n",
      "3  9642c003ef                     what interview! leave me alone   \n",
      "4  358bd9e861   Sons of ****, why couldn`t they put them on t...   \n",
      "\n",
      "                         selected_text sentiment Time of Tweet Age of User  \\\n",
      "0  I`d have responded, if I were going   neutral       morning        0-20   \n",
      "1                             Sooo SAD  negative          noon       21-30   \n",
      "2                          bullying me  negative         night       31-45   \n",
      "3                       leave me alone  negative       morning       46-60   \n",
      "4                        Sons of ****,  negative          noon       60-70   \n",
      "\n",
      "       Country  Population -2020  Land Area (Km²)  Density (P/Km²)  \\\n",
      "0  Afghanistan          38928346         652860.0               60   \n",
      "1      Albania           2877797          27400.0              105   \n",
      "2      Algeria          43851044        2381740.0               18   \n",
      "3      Andorra             77265            470.0              164   \n",
      "4       Angola          32866272        1246700.0               26   \n",
      "\n",
      "                             cleaned_text  \n",
      "0                      id responded going  \n",
      "1                 sooo sad miss san diego  \n",
      "2                            bos bullying  \n",
      "3                   interview leave alone  \n",
      "4  son couldnt put release already bought  \n"
     ]
    }
   ],
   "source": [
    "# Import necessary libraries for preprocessing\n",
    "import re\n",
    "import string\n",
    "from nltk.corpus import stopwords\n",
    "from nltk.tokenize import word_tokenize\n",
    "from nltk.stem import WordNetLemmatizer\n",
    "\n",
    "# Download required NLTK data\n",
    "import nltk\n",
    "nltk.download('stopwords')\n",
    "nltk.download('punkt')\n",
    "nltk.download('wordnet')\n",
    "\n",
    "# Initialize the lemmatizer\n",
    "lemmatizer = WordNetLemmatizer()\n",
    "\n",
    "# Define preprocessing function\n",
    "def preprocess_text(text):\n",
    "    # Handle potential float values\n",
    "    if isinstance(text, float):\n",
    "        text = str(text)  # Convert float to string if necessary\n",
    "\n",
    "    text = text.lower()  # Lowercase the text\n",
    "    text = re.sub(f\"[{string.punctuation}]\", \"\", text)  # Remove punctuation\n",
    "    words = word_tokenize(text)  # Tokenize the text\n",
    "    words = [word for word in words if word not in stopwords.words('english')]  # Remove stop words\n",
    "    words = [lemmatizer.lemmatize(word) for word in words]  # Lemmatize words\n",
    "    return \" \".join(words)\n",
    "\n",
    "# Apply preprocessing to the text column\n",
    "train_df['cleaned_text'] = train_df['text'].apply(preprocess_text)\n",
    "\n",
    "# Display the first few rows of the cleaned dataset\n",
    "print(train_df.head())\n"
   ]
  },
  {
   "cell_type": "code",
   "execution_count": 12,
   "metadata": {
    "colab": {
     "base_uri": "https://localhost:8080/",
     "height": 564
    },
    "id": "NEJ_VTZwazGm",
    "outputId": "bd0faca9-96e2-4fd6-db84-42ef212b3db5"
   },
   "outputs": [
    {
     "data": {
      "image/png": "[encoded data removed]",
      "text/plain": [
       "<Figure size 800x600 with 1 Axes>"
      ]
     },
     "metadata": {},
     "output_type": "display_data"
    }
   ],
   "source": [
    "import matplotlib.pyplot as plt\n",
    "import seaborn as sns\n",
    "\n",
    "# Plot the distribution of sentiment labels\n",
    "plt.figure(figsize=(8, 6))\n",
    "sns.countplot(x='sentiment', data=train_df)\n",
    "plt.title('Distribution of Sentiment Labels')\n",
    "plt.xlabel('Sentiment')\n",
    "plt.ylabel('Count')\n",
    "plt.show()\n"
   ]
  },
  {
   "cell_type": "code",
   "execution_count": 13,
   "metadata": {
    "id": "_dn4bwPTbvgm"
   },
   "outputs": [],
   "source": [
    "from sklearn.feature_extraction.text import TfidfVectorizer\n",
    "\n",
    "# Initialize the TF-IDF Vectorizer\n",
    "tfidf_vectorizer = TfidfVectorizer(max_features=5000)\n",
    "\n",
    "# Fit and transform the cleaned text data\n",
    "X_train = tfidf_vectorizer.fit_transform(train_df['cleaned_text'])\n",
    "\n",
    "# Convert the sentiment labels to numerical values\n",
    "from sklearn.preprocessing import LabelEncoder\n",
    "label_encoder = LabelEncoder()\n",
    "y_train = label_encoder.fit_transform(train_df['sentiment'])\n"
   ]
  },
  {
   "cell_type": "markdown",
   "metadata": {
    "id": "Bk5k8eeFe6Ov"
   },
   "source": [
    "# Test_data_preprocessing"
   ]
  },
  {
   "cell_type": "code",
   "execution_count": 15,
   "metadata": {
    "id": "hZMfcKutb5rA"
   },
   "outputs": [],
   "source": [
    "test_df = pd.read_csv(\"test.csv\", encoding='latin-1')"
   ]
  },
  {
   "cell_type": "code",
   "execution_count": 16,
   "metadata": {
    "colab": {
     "base_uri": "https://localhost:8080/",
     "height": 206
    },
    "id": "rHjKWQ4Lc2gB",
    "outputId": "7a1d13b2-ae07-42b9-98fc-ff3d8ce502ed"
   },
   "outputs": [
    {
     "data": {
      "text/html": [
       "<div>\n",
       "<style scoped>\n",
       "    .dataframe tbody tr th:only-of-type {\n",
       "        vertical-align: middle;\n",
       "    }\n",
       "\n",
       "    .dataframe tbody tr th {\n",
       "        vertical-align: top;\n",
       "    }\n",
       "\n",
       "    .dataframe thead th {\n",
       "        text-align: right;\n",
       "    }\n",
       "</style>\n",
       "<table border=\"1\" class=\"dataframe\">\n",
       "  <thead>\n",
       "    <tr style=\"text-align: right;\">\n",
       "      <th></th>\n",
       "      <th>textID</th>\n",
       "      <th>text</th>\n",
       "      <th>sentiment</th>\n",
       "      <th>Time of Tweet</th>\n",
       "      <th>Age of User</th>\n",
       "      <th>Country</th>\n",
       "      <th>Population -2020</th>\n",
       "      <th>Land Area (Km²)</th>\n",
       "      <th>Density (P/Km²)</th>\n",
       "    </tr>\n",
       "  </thead>\n",
       "  <tbody>\n",
       "    <tr>\n",
       "      <th>0</th>\n",
       "      <td>f87dea47db</td>\n",
       "      <td>Last session of the day  http://twitpic.com/67ezh</td>\n",
       "      <td>neutral</td>\n",
       "      <td>morning</td>\n",
       "      <td>0-20</td>\n",
       "      <td>Afghanistan</td>\n",
       "      <td>38928346.0</td>\n",
       "      <td>652860.0</td>\n",
       "      <td>60.0</td>\n",
       "    </tr>\n",
       "    <tr>\n",
       "      <th>1</th>\n",
       "      <td>96d74cb729</td>\n",
       "      <td>Shanghai is also really exciting (precisely -...</td>\n",
       "      <td>positive</td>\n",
       "      <td>noon</td>\n",
       "      <td>21-30</td>\n",
       "      <td>Albania</td>\n",
       "      <td>2877797.0</td>\n",
       "      <td>27400.0</td>\n",
       "      <td>105.0</td>\n",
       "    </tr>\n",
       "    <tr>\n",
       "      <th>2</th>\n",
       "      <td>eee518ae67</td>\n",
       "      <td>Recession hit Veronique Branquinho, she has to...</td>\n",
       "      <td>negative</td>\n",
       "      <td>night</td>\n",
       "      <td>31-45</td>\n",
       "      <td>Algeria</td>\n",
       "      <td>43851044.0</td>\n",
       "      <td>2381740.0</td>\n",
       "      <td>18.0</td>\n",
       "    </tr>\n",
       "    <tr>\n",
       "      <th>3</th>\n",
       "      <td>01082688c6</td>\n",
       "      <td>happy bday!</td>\n",
       "      <td>positive</td>\n",
       "      <td>morning</td>\n",
       "      <td>46-60</td>\n",
       "      <td>Andorra</td>\n",
       "      <td>77265.0</td>\n",
       "      <td>470.0</td>\n",
       "      <td>164.0</td>\n",
       "    </tr>\n",
       "    <tr>\n",
       "      <th>4</th>\n",
       "      <td>33987a8ee5</td>\n",
       "      <td>http://twitpic.com/4w75p - I like it!!</td>\n",
       "      <td>positive</td>\n",
       "      <td>noon</td>\n",
       "      <td>60-70</td>\n",
       "      <td>Angola</td>\n",
       "      <td>32866272.0</td>\n",
       "      <td>1246700.0</td>\n",
       "      <td>26.0</td>\n",
       "    </tr>\n",
       "  </tbody>\n",
       "</table>\n",
       "</div>"
      ],
      "text/plain": [
       "       textID                                               text sentiment  \\\n",
       "0  f87dea47db  Last session of the day  http://twitpic.com/67ezh   neutral   \n",
       "1  96d74cb729   Shanghai is also really exciting (precisely -...  positive   \n",
       "2  eee518ae67  Recession hit Veronique Branquinho, she has to...  negative   \n",
       "3  01082688c6                                        happy bday!  positive   \n",
       "4  33987a8ee5             http://twitpic.com/4w75p - I like it!!  positive   \n",
       "\n",
       "  Time of Tweet Age of User      Country  Population -2020  Land Area (Km²)  \\\n",
       "0       morning        0-20  Afghanistan        38928346.0         652860.0   \n",
       "1          noon       21-30      Albania         2877797.0          27400.0   \n",
       "2         night       31-45      Algeria        43851044.0        2381740.0   \n",
       "3       morning       46-60      Andorra           77265.0            470.0   \n",
       "4          noon       60-70       Angola        32866272.0        1246700.0   \n",
       "\n",
       "   Density (P/Km²)  \n",
       "0             60.0  \n",
       "1            105.0  \n",
       "2             18.0  \n",
       "3            164.0  \n",
       "4             26.0  "
      ]
     },
     "execution_count": 16,
     "metadata": {},
     "output_type": "execute_result"
    }
   ],
   "source": [
    "test_df.head()"
   ]
  },
  {
   "cell_type": "code",
   "execution_count": 17,
   "metadata": {
    "colab": {
     "base_uri": "https://localhost:8080/"
    },
    "id": "0puWR2Guc7G2",
    "outputId": "57a05288-d45f-4ecc-859f-a6c9b8da873d"
   },
   "outputs": [
    {
     "name": "stdout",
     "output_type": "stream",
     "text": [
      "<class 'pandas.core.frame.DataFrame'>\n",
      "RangeIndex: 4815 entries, 0 to 4814\n",
      "Data columns (total 9 columns):\n",
      " #   Column            Non-Null Count  Dtype  \n",
      "---  ------            --------------  -----  \n",
      " 0   textID            3534 non-null   object \n",
      " 1   text              3534 non-null   object \n",
      " 2   sentiment         3534 non-null   object \n",
      " 3   Time of Tweet     3534 non-null   object \n",
      " 4   Age of User       3534 non-null   object \n",
      " 5   Country           3534 non-null   object \n",
      " 6   Population -2020  3534 non-null   float64\n",
      " 7   Land Area (Km²)   3534 non-null   float64\n",
      " 8   Density (P/Km²)   3534 non-null   float64\n",
      "dtypes: float64(3), object(6)\n",
      "memory usage: 338.7+ KB\n"
     ]
    }
   ],
   "source": [
    "test_df.info()"
   ]
  },
  {
   "cell_type": "code",
   "execution_count": 18,
   "metadata": {
    "colab": {
     "base_uri": "https://localhost:8080/"
    },
    "id": "z4whPYESdBip",
    "outputId": "9e7128ac-2d0d-4095-95d7-5c5d8479f437"
   },
   "outputs": [
    {
     "name": "stdout",
     "output_type": "stream",
     "text": [
      "       textID                                               text sentiment  \\\n",
      "0  f87dea47db  Last session of the day  http://twitpic.com/67ezh   neutral   \n",
      "1  96d74cb729   Shanghai is also really exciting (precisely -...  positive   \n",
      "2  eee518ae67  Recession hit Veronique Branquinho, she has to...  negative   \n",
      "3  01082688c6                                        happy bday!  positive   \n",
      "4  33987a8ee5             http://twitpic.com/4w75p - I like it!!  positive   \n",
      "\n",
      "  Time of Tweet Age of User      Country  Population -2020  Land Area (Km²)  \\\n",
      "0       morning        0-20  Afghanistan        38928346.0         652860.0   \n",
      "1          noon       21-30      Albania         2877797.0          27400.0   \n",
      "2         night       31-45      Algeria        43851044.0        2381740.0   \n",
      "3       morning       46-60      Andorra           77265.0            470.0   \n",
      "4          noon       60-70       Angola        32866272.0        1246700.0   \n",
      "\n",
      "   Density (P/Km²)                                       cleaned_text  \n",
      "0             60.0               last session day httptwitpiccom67ezh  \n",
      "1            105.0  shanghai also really exciting precisely skyscr...  \n",
      "2             18.0  recession hit veronique branquinho quit compan...  \n",
      "3            164.0                                         happy bday  \n",
      "4             26.0                           httptwitpiccom4w75p like  \n"
     ]
    }
   ],
   "source": [
    "# Apply preprocessing to the text column\n",
    "test_df['cleaned_text'] = test_df['text'].apply(preprocess_text)\n",
    "\n",
    "# Display the first few rows of the cleaned dataset\n",
    "print(test_df.head())"
   ]
  },
  {
   "cell_type": "code",
   "execution_count": 19,
   "metadata": {
    "id": "Sq_-neHzdU41"
   },
   "outputs": [],
   "source": [
    "# Fit and transform the cleaned text data\n",
    "X_test = tfidf_vectorizer.fit_transform(test_df['cleaned_text'])\n",
    "\n",
    "# Convert the sentiment labels to numerical values\n",
    "y_test = label_encoder.fit_transform(test_df['sentiment'])"
   ]
  },
  {
   "cell_type": "markdown",
   "metadata": {
    "id": "U7ZOBrnpe_Am"
   },
   "source": [
    "# Model_Implimantation"
   ]
  },
  {
   "cell_type": "code",
   "execution_count": 20,
   "metadata": {
    "colab": {
     "base_uri": "https://localhost:8080/"
    },
    "id": "m3wFoGSsepqn",
    "outputId": "71bddcd0-bed3-4ad1-bcad-97959383579c"
   },
   "outputs": [
    {
     "name": "stdout",
     "output_type": "stream",
     "text": [
      "Naive Bayes Accuracy: 0.2652128764278297\n",
      "Naive Bayes Precision: 0.20898504953944558\n",
      "Naive Bayes Recall: 0.2652128764278297\n",
      "Naive Bayes F1 Score: 0.22362135920053114\n"
     ]
    },
    {
     "name": "stderr",
     "output_type": "stream",
     "text": [
      "C:\\Users\\balim\\anaconda3\\Lib\\site-packages\\sklearn\\metrics\\_classification.py:1344: UndefinedMetricWarning: Precision is ill-defined and being set to 0.0 in labels with no predicted samples. Use `zero_division` parameter to control this behavior.\n",
      "  _warn_prf(average, modifier, msg_start, len(result))\n"
     ]
    },
    {
     "name": "stdout",
     "output_type": "stream",
     "text": [
      "SVM Accuracy: 0.2851505711318795\n",
      "SVM Precision: 0.20576805507351056\n",
      "SVM Recall: 0.2851505711318795\n",
      "SVM F1 Score: 0.178034176539932\n"
     ]
    },
    {
     "name": "stderr",
     "output_type": "stream",
     "text": [
      "C:\\Users\\balim\\anaconda3\\Lib\\site-packages\\sklearn\\metrics\\_classification.py:1344: UndefinedMetricWarning: Precision is ill-defined and being set to 0.0 in labels with no predicted samples. Use `zero_division` parameter to control this behavior.\n",
      "  _warn_prf(average, modifier, msg_start, len(result))\n"
     ]
    }
   ],
   "source": [
    "from sklearn.model_selection import train_test_split\n",
    "from sklearn.naive_bayes import MultinomialNB\n",
    "from sklearn.svm import SVC\n",
    "from sklearn.metrics import accuracy_score, precision_score, recall_score, f1_score\n",
    "\n",
    "# Initialize and train the Naive Bayes model\n",
    "nb_model = MultinomialNB()\n",
    "nb_model.fit(X_train, y_train)\n",
    "\n",
    "# Make predictions and evaluate the Naive Bayes model\n",
    "nb_predictions = nb_model.predict(X_test)\n",
    "print('Naive Bayes Accuracy:', accuracy_score(y_test, nb_predictions))\n",
    "print('Naive Bayes Precision:', precision_score(y_test, nb_predictions, average='weighted'))\n",
    "print('Naive Bayes Recall:', recall_score(y_test, nb_predictions, average='weighted'))\n",
    "print('Naive Bayes F1 Score:', f1_score(y_test, nb_predictions, average='weighted'))\n",
    "\n",
    "# Initialize and train the SVM model\n",
    "svm_model = SVC(kernel='rbf')\n",
    "svm_model.fit(X_train, y_train)\n",
    "\n",
    "# Make predictions and evaluate the SVM model\n",
    "svm_predictions = svm_model.predict(X_test)\n",
    "print('SVM Accuracy:', accuracy_score(y_test, svm_predictions))\n",
    "print('SVM Precision:', precision_score(y_test, svm_predictions, average='weighted'))\n",
    "print('SVM Recall:', recall_score(y_test, svm_predictions, average='weighted'))\n",
    "print('SVM F1 Score:', f1_score(y_test, svm_predictions, average='weighted'))\n"
   ]
  },
  {
   "cell_type": "code",
   "execution_count": 21,
   "metadata": {
    "colab": {
     "base_uri": "https://localhost:8080/"
    },
    "id": "6u9qbOOqfZn6",
    "outputId": "ba619438-20a2-4a1c-8d3a-002d14c3cc46"
   },
   "outputs": [
    {
     "name": "stdout",
     "output_type": "stream",
     "text": [
      "Fitting 5 folds for each of 4 candidates, totalling 20 fits\n",
      "[CV] END .........................C=0.1, gamma=1, kernel=rbf; total time=  56.2s\n",
      "[CV] END .........................C=0.1, gamma=1, kernel=rbf; total time=  57.3s\n",
      "[CV] END .........................C=0.1, gamma=1, kernel=rbf; total time=  55.7s\n",
      "[CV] END .........................C=0.1, gamma=1, kernel=rbf; total time=  58.2s\n",
      "[CV] END .........................C=0.1, gamma=1, kernel=rbf; total time= 1.2min\n",
      "[CV] END .......................C=0.1, gamma=0.1, kernel=rbf; total time= 1.3min\n",
      "[CV] END .......................C=0.1, gamma=0.1, kernel=rbf; total time= 1.3min\n",
      "[CV] END .......................C=0.1, gamma=0.1, kernel=rbf; total time= 1.2min\n",
      "[CV] END .......................C=0.1, gamma=0.1, kernel=rbf; total time= 1.1min\n",
      "[CV] END .......................C=0.1, gamma=0.1, kernel=rbf; total time= 1.5min\n",
      "[CV] END ...........................C=1, gamma=1, kernel=rbf; total time= 4.6min\n",
      "[CV] END ...........................C=1, gamma=1, kernel=rbf; total time= 4.4min\n",
      "[CV] END ...........................C=1, gamma=1, kernel=rbf; total time= 4.3min\n",
      "[CV] END ...........................C=1, gamma=1, kernel=rbf; total time= 5.0min\n",
      "[CV] END ...........................C=1, gamma=1, kernel=rbf; total time= 4.3min\n",
      "[CV] END .........................C=1, gamma=0.1, kernel=rbf; total time= 2.3min\n",
      "[CV] END .........................C=1, gamma=0.1, kernel=rbf; total time= 1.9min\n",
      "[CV] END .........................C=1, gamma=0.1, kernel=rbf; total time= 1.9min\n",
      "[CV] END .........................C=1, gamma=0.1, kernel=rbf; total time= 1.8min\n",
      "[CV] END .........................C=1, gamma=0.1, kernel=rbf; total time= 2.0min\n",
      "Best Parameters: {'C': 1, 'gamma': 1, 'kernel': 'rbf'}\n",
      "Tuned SVM Accuracy: 0.2853582554517134\n",
      "Tuned SVM Precision: 0.20604867551419281\n",
      "Tuned SVM Recall: 0.2853582554517134\n",
      "Tuned SVM F1 Score: 0.17813982197408065\n"
     ]
    },
    {
     "name": "stderr",
     "output_type": "stream",
     "text": [
      "C:\\Users\\balim\\anaconda3\\Lib\\site-packages\\sklearn\\metrics\\_classification.py:1344: UndefinedMetricWarning: Precision is ill-defined and being set to 0.0 in labels with no predicted samples. Use `zero_division` parameter to control this behavior.\n",
      "  _warn_prf(average, modifier, msg_start, len(result))\n"
     ]
    }
   ],
   "source": [
    "from sklearn.model_selection import GridSearchCV\n",
    "\n",
    "# Define the parameter grid for SVM\n",
    "param_grid = {\n",
    "    'C': [0.1, 1],\n",
    "    'gamma': [1, 0.1],\n",
    "    'kernel': ['rbf']\n",
    "}\n",
    "\n",
    "# Initialize GridSearchCV with the SVM model and parameter grid\n",
    "grid_search = GridSearchCV(SVC(), param_grid, refit=True, verbose=2)\n",
    "grid_search.fit(X_train, y_train)\n",
    "\n",
    "# Get the best parameters and evaluate the tuned model\n",
    "print('Best Parameters:', grid_search.best_params_)\n",
    "svm_best_model = grid_search.best_estimator_\n",
    "svm_best_predictions = svm_best_model.predict(X_test)\n",
    "print('Tuned SVM Accuracy:', accuracy_score(y_test, svm_best_predictions))\n",
    "print('Tuned SVM Precision:', precision_score(y_test, svm_best_predictions, average='weighted'))\n",
    "print('Tuned SVM Recall:', recall_score(y_test, svm_best_predictions, average='weighted'))\n",
    "print('Tuned SVM F1 Score:', f1_score(y_test, svm_best_predictions, average='weighted'))\n"
   ]
  },
  {
   "cell_type": "code",
   "execution_count": 22,
   "metadata": {
    "id": "dGS7rzwtDvmb"
   },
   "outputs": [
    {
     "name": "stdout",
     "output_type": "stream",
     "text": [
      "Cross-Validation Scores: [0.70274036 0.70459824 0.71156526 0.71295866 0.71063632]\n",
      "Mean CV Score: 0.7084997677659081\n"
     ]
    }
   ],
   "source": [
    "from sklearn.model_selection import cross_val_score\n",
    "\n",
    "# Assuming 'X' should be the combined training and test data\n",
    "X = tfidf_vectorizer.fit_transform(pd.concat([train_df['cleaned_text'], test_df['cleaned_text']]))\n",
    "# Assuming 'y' should be the combined training and test labels\n",
    "y = label_encoder.fit_transform(pd.concat([train_df['sentiment'], test_df['sentiment']]))\n",
    "\n",
    "# Perform 5-fold cross-validation for the SVM model\n",
    "cv_scores = cross_val_score(svm_best_model, X, y, cv=5)\n",
    "\n",
    "# Print cross-validation scores\n",
    "print('Cross-Validation Scores:', cv_scores)\n",
    "print('Mean CV Score:', cv_scores.mean())"
   ]
  },
  {
   "cell_type": "code",
   "execution_count": 24,
   "metadata": {},
   "outputs": [
    {
     "name": "stdout",
     "output_type": "stream",
     "text": [
      "Collecting limeNote: you may need to restart the kernel to use updated packages.\n",
      "\n",
      "  Downloading lime-0.2.0.1.tar.gz (275 kB)\n",
      "     ---------------------------------------- 0.0/275.7 kB ? eta -:--:--\n",
      "     - -------------------------------------- 10.2/275.7 kB ? eta -:--:--\n",
      "     - -------------------------------------- 10.2/275.7 kB ? eta -:--:--\n",
      "     ---- -------------------------------- 30.7/275.7 kB 186.2 kB/s eta 0:00:02\n",
      "     ---- -------------------------------- 30.7/275.7 kB 186.2 kB/s eta 0:00:02\n",
      "     ------------ ------------------------ 92.2/275.7 kB 403.5 kB/s eta 0:00:01\n",
      "     ------------ ------------------------ 92.2/275.7 kB 403.5 kB/s eta 0:00:01\n",
      "     ------------------ ----------------- 143.4/275.7 kB 425.3 kB/s eta 0:00:01\n",
      "     ------------------ ----------------- 143.4/275.7 kB 425.3 kB/s eta 0:00:01\n",
      "     ------------------------- ---------- 194.6/275.7 kB 452.9 kB/s eta 0:00:01\n",
      "     ------------------------- ---------- 194.6/275.7 kB 452.9 kB/s eta 0:00:01\n",
      "     ------------------------------ ----- 235.5/275.7 kB 436.6 kB/s eta 0:00:01\n",
      "     ------------------------------------ 275.7/275.7 kB 499.0 kB/s eta 0:00:00\n",
      "  Preparing metadata (setup.py): started\n",
      "  Preparing metadata (setup.py): finished with status 'done'\n",
      "Requirement already satisfied: matplotlib in c:\\users\\balim\\anaconda3\\lib\\site-packages (from lime) (3.8.0)\n",
      "Requirement already satisfied: numpy in c:\\users\\balim\\anaconda3\\lib\\site-packages (from lime) (1.26.4)\n",
      "Requirement already satisfied: scipy in c:\\users\\balim\\anaconda3\\lib\\site-packages (from lime) (1.11.4)\n",
      "Requirement already satisfied: tqdm in c:\\users\\balim\\anaconda3\\lib\\site-packages (from lime) (4.65.0)\n",
      "Requirement already satisfied: scikit-learn>=0.18 in c:\\users\\balim\\anaconda3\\lib\\site-packages (from lime) (1.2.2)\n",
      "Requirement already satisfied: scikit-image>=0.12 in c:\\users\\balim\\anaconda3\\lib\\site-packages (from lime) (0.22.0)\n",
      "Requirement already satisfied: networkx>=2.8 in c:\\users\\balim\\anaconda3\\lib\\site-packages (from scikit-image>=0.12->lime) (3.1)\n",
      "Requirement already satisfied: pillow>=9.0.1 in c:\\users\\balim\\anaconda3\\lib\\site-packages (from scikit-image>=0.12->lime) (10.2.0)\n",
      "Requirement already satisfied: imageio>=2.27 in c:\\users\\balim\\anaconda3\\lib\\site-packages (from scikit-image>=0.12->lime) (2.33.1)\n",
      "Requirement already satisfied: tifffile>=2022.8.12 in c:\\users\\balim\\anaconda3\\lib\\site-packages (from scikit-image>=0.12->lime) (2023.4.12)\n",
      "Requirement already satisfied: packaging>=21 in c:\\users\\balim\\anaconda3\\lib\\site-packages (from scikit-image>=0.12->lime) (23.1)\n",
      "Requirement already satisfied: lazy_loader>=0.3 in c:\\users\\balim\\anaconda3\\lib\\site-packages (from scikit-image>=0.12->lime) (0.3)\n",
      "Requirement already satisfied: joblib>=1.1.1 in c:\\users\\balim\\anaconda3\\lib\\site-packages (from scikit-learn>=0.18->lime) (1.2.0)\n",
      "Requirement already satisfied: threadpoolctl>=2.0.0 in c:\\users\\balim\\anaconda3\\lib\\site-packages (from scikit-learn>=0.18->lime) (2.2.0)\n",
      "Requirement already satisfied: contourpy>=1.0.1 in c:\\users\\balim\\anaconda3\\lib\\site-packages (from matplotlib->lime) (1.2.0)\n",
      "Requirement already satisfied: cycler>=0.10 in c:\\users\\balim\\anaconda3\\lib\\site-packages (from matplotlib->lime) (0.11.0)\n",
      "Requirement already satisfied: fonttools>=4.22.0 in c:\\users\\balim\\anaconda3\\lib\\site-packages (from matplotlib->lime) (4.25.0)\n",
      "Requirement already satisfied: kiwisolver>=1.0.1 in c:\\users\\balim\\anaconda3\\lib\\site-packages (from matplotlib->lime) (1.4.4)\n",
      "Requirement already satisfied: pyparsing>=2.3.1 in c:\\users\\balim\\anaconda3\\lib\\site-packages (from matplotlib->lime) (3.0.9)\n",
      "Requirement already satisfied: python-dateutil>=2.7 in c:\\users\\balim\\anaconda3\\lib\\site-packages (from matplotlib->lime) (2.8.2)\n",
      "Requirement already satisfied: colorama in c:\\users\\balim\\anaconda3\\lib\\site-packages (from tqdm->lime) (0.4.6)\n",
      "Requirement already satisfied: six>=1.5 in c:\\users\\balim\\anaconda3\\lib\\site-packages (from python-dateutil>=2.7->matplotlib->lime) (1.16.0)\n",
      "Building wheels for collected packages: lime\n",
      "  Building wheel for lime (setup.py): started\n",
      "  Building wheel for lime (setup.py): finished with status 'done'\n",
      "  Created wheel for lime: filename=lime-0.2.0.1-py3-none-any.whl size=283842 sha256=8c49e419086a8f2eec223afe5e1e7ca2ddc45e183d7106f70a11d37551278bbe\n",
      "  Stored in directory: c:\\users\\balim\\appdata\\local\\pip\\cache\\wheels\\85\\fa\\a3\\9c2d44c9f3cd77cf4e533b58900b2bf4487f2a17e8ec212a3d\n",
      "Successfully built lime\n",
      "Installing collected packages: lime\n",
      "Successfully installed lime-0.2.0.1\n"
     ]
    }
   ],
   "source": [
    "pip install lime\n"
   ]
  },
  {
   "cell_type": "code",
   "execution_count": 35,
   "metadata": {
    "id": "7ac9EaNXCbGe"
   },
   "outputs": [
    {
     "ename": "AttributeError",
     "evalue": "'GridSearchCV' object has no attribute 'best_estimator_'",
     "output_type": "error",
     "traceback": [
      "\u001b[1;31m---------------------------------------------------------------------------\u001b[0m",
      "\u001b[1;31mAttributeError\u001b[0m                            Traceback (most recent call last)",
      "Cell \u001b[1;32mIn[35], line 5\u001b[0m\n\u001b[0;32m      3\u001b[0m \u001b[38;5;66;03m# svc = SVC(probability=True)\u001b[39;00m\n\u001b[0;32m      4\u001b[0m grid_search \u001b[38;5;241m=\u001b[39m GridSearchCV(SVC(probability\u001b[38;5;241m=\u001b[39m\u001b[38;5;28;01mTrue\u001b[39;00m), param_grid, refit\u001b[38;5;241m=\u001b[39m\u001b[38;5;28;01mTrue\u001b[39;00m, verbose\u001b[38;5;241m=\u001b[39m\u001b[38;5;241m2\u001b[39m)\n\u001b[1;32m----> 5\u001b[0m svm_best_model \u001b[38;5;241m=\u001b[39m grid_search\u001b[38;5;241m.\u001b[39mbest_estimator_\n\u001b[0;32m      6\u001b[0m \u001b[38;5;66;03m# Initialize LIME explainer\u001b[39;00m\n\u001b[0;32m      7\u001b[0m explainer \u001b[38;5;241m=\u001b[39m lime\u001b[38;5;241m.\u001b[39mlime_text\u001b[38;5;241m.\u001b[39mLimeTextExplainer(class_names\u001b[38;5;241m=\u001b[39mlabel_encoder\u001b[38;5;241m.\u001b[39mclasses_)\n",
      "\u001b[1;31mAttributeError\u001b[0m: 'GridSearchCV' object has no attribute 'best_estimator_'"
     ]
    }
   ],
   "source": [
    "import lime\n",
    "import lime.lime_text\n",
    "\n",
    "grid_search = GridSearchCV(SVC(probability=True), param_grid, refit=True, verbose=2)\n",
    "svm_best_model = grid_search.best_estimator_\n",
    "# Initialize LIME explainer\n",
    "explainer = lime.lime_text.LimeTextExplainer(class_names=label_encoder.classes_)\n",
    "\n",
    "# Explain a prediction\n",
    "idx = 0  # Index of the sample to explain\n",
    "# Assuming 'svm_best_model' is a pipeline with a predict_proba method\n",
    "exp = explainer.explain_instance(train_df['cleaned_text'][idx], svm_best_model.predict_proba, num_features=10, labels=[0,1]) \n",
    "exp.show_in_notebook(text=True)\n"
   ]
  },
  {
   "cell_type": "markdown",
   "metadata": {
    "id": "HJy1d5dPCfph"
   },
   "source": [
    "from sklearn.metrics import confusion_matrix, precision_recall_curve, roc_auc_score\n",
    "<!-- #Confusion matrix -->\n",
    "conf_matrix = confusion_matrix(y_test, svm_best_predictions)\n",
    "print('Confusion Matrix:\\n', conf_matrix)\n",
    "\n",
    "<!-- # Precision-Recall curve -->\n",
    "precision, recall, _ = precision_recall_curve(y_test, svm_best_predictions)\n",
    "plt.plot(recall, precision, marker='.')\n",
    "plt.title('Precision-Recall Curve')\n",
    "plt.xlabel('Recall')\n",
    "plt.ylabel('Precision')\n",
    "plt.show()\n",
    "\n",
    "<!-- # ROC-AUC score -->\n",
    "roc_auc = roc_auc_score(y_test, svm_best_model.decision_function(X_test))\n",
    "print('ROC-AUC Score:', roc_auc)\n"
   ]
  },
  {
   "cell_type": "code",
   "execution_count": null,
   "metadata": {
    "id": "kSFMgFDcCrFT"
   },
   "outputs": [],
   "source": [
    "# Deployment can be done using frameworks like Flask or FastAPI\n",
    "# Here is a simple example using Flask\n",
    "\n",
    "from flask import Flask, request, jsonify\n",
    "\n",
    "app = Flask(__name__)\n",
    "\n",
    "@app.route('/predict', methods=['POST'])\n",
    "def predict():\n",
    "    text = request.json['text']\n",
    "    cleaned_text = preprocess_text(text)\n",
    "    vectorized_text = tfidf_vectorizer.transform([cleaned_text])\n",
    "    prediction = svm_best_model.predict(vectorized_text)\n",
    "    sentiment = label_encoder.inverse_transform(prediction)\n",
    "    return jsonify({'sentiment': sentiment[0]})\n",
    "\n",
    "if __name__ == '__main__':\n",
    "    app.run(debug=True)\n"
   ]
  }
 ],
 "metadata": {
  "colab": {
   "provenance": []
  },
  "kernelspec": {
   "display_name": "Python 3 (ipykernel)",
   "language": "python",
   "name": "python3"
  },
  "language_info": {
   "codemirror_mode": {
    "name": "ipython",
    "version": 3
   },
   "file_extension": ".py",
   "mimetype": "text/x-python",
   "name": "python",
   "nbconvert_exporter": "python",
   "pygments_lexer": "ipython3",
   "version": "3.11.7"
  }
 },
 "nbformat": 4,
 "nbformat_minor": 4
}
